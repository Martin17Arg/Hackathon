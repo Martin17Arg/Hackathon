{
 "cells": [
  {
   "cell_type": "code",
   "execution_count": 10,
   "metadata": {},
   "outputs": [],
   "source": [
    "import pandas as pd\n",
    "import os, math\n",
    "import matplotlib.pyplot as plt\n",
    "import seaborn as sns"
   ]
  },
  {
   "cell_type": "code",
   "execution_count": 11,
   "metadata": {},
   "outputs": [],
   "source": [
    "def load_dataset(path,file):\n",
    "    csv_path = os.path.join(path,file)\n",
    "    return pd.read_csv(csv_path)"
   ]
  },
  {
   "cell_type": "code",
   "execution_count": 12,
   "metadata": {},
   "outputs": [],
   "source": [
    "PATH = \"../Fraude en TC/\"\n",
    "DATASET = \"fraude_tc.csv\""
   ]
  },
  {
   "cell_type": "code",
   "execution_count": 13,
   "metadata": {},
   "outputs": [],
   "source": [
    "df  = load_dataset(PATH,DATASET)"
   ]
  },
  {
   "cell_type": "code",
   "execution_count": 14,
   "metadata": {},
   "outputs": [
    {
     "name": "stdout",
     "output_type": "stream",
     "text": [
      "<class 'pandas.core.frame.DataFrame'>\n",
      "RangeIndex: 1000000 entries, 0 to 999999\n",
      "Data columns (total 8 columns):\n",
      " #   Column                          Non-Null Count    Dtype  \n",
      "---  ------                          --------------    -----  \n",
      " 0   distance_from_home              1000000 non-null  float64\n",
      " 1   distance_from_last_transaction  1000000 non-null  float64\n",
      " 2   ratio_to_median_purchase_price  1000000 non-null  float64\n",
      " 3   repeat_retailer                 1000000 non-null  float64\n",
      " 4   used_chip                       1000000 non-null  float64\n",
      " 5   used_pin_number                 1000000 non-null  float64\n",
      " 6   online_order                    1000000 non-null  float64\n",
      " 7   fraud                           1000000 non-null  float64\n",
      "dtypes: float64(8)\n",
      "memory usage: 61.0 MB\n"
     ]
    }
   ],
   "source": [
    "df.info()"
   ]
  },
  {
   "cell_type": "code",
   "execution_count": 21,
   "metadata": {},
   "outputs": [
    {
     "data": {
      "text/html": [
       "<div>\n",
       "<style scoped>\n",
       "    .dataframe tbody tr th:only-of-type {\n",
       "        vertical-align: middle;\n",
       "    }\n",
       "\n",
       "    .dataframe tbody tr th {\n",
       "        vertical-align: top;\n",
       "    }\n",
       "\n",
       "    .dataframe thead th {\n",
       "        text-align: right;\n",
       "    }\n",
       "</style>\n",
       "<table border=\"1\" class=\"dataframe\">\n",
       "  <thead>\n",
       "    <tr style=\"text-align: right;\">\n",
       "      <th></th>\n",
       "      <th>distance_from_home</th>\n",
       "      <th>distance_from_last_transaction</th>\n",
       "      <th>ratio_to_median_purchase_price</th>\n",
       "      <th>repeat_retailer</th>\n",
       "      <th>used_chip</th>\n",
       "      <th>used_pin_number</th>\n",
       "      <th>online_order</th>\n",
       "      <th>fraud</th>\n",
       "    </tr>\n",
       "  </thead>\n",
       "  <tbody>\n",
       "    <tr>\n",
       "      <th>count</th>\n",
       "      <td>1000000.000000</td>\n",
       "      <td>1000000.000000</td>\n",
       "      <td>1000000.000000</td>\n",
       "      <td>1000000.000000</td>\n",
       "      <td>1000000.000000</td>\n",
       "      <td>1000000.000000</td>\n",
       "      <td>1000000.000000</td>\n",
       "      <td>1000000.000000</td>\n",
       "    </tr>\n",
       "    <tr>\n",
       "      <th>mean</th>\n",
       "      <td>26.628792</td>\n",
       "      <td>5.036519</td>\n",
       "      <td>1.824182</td>\n",
       "      <td>0.881536</td>\n",
       "      <td>0.350399</td>\n",
       "      <td>0.100608</td>\n",
       "      <td>0.650552</td>\n",
       "      <td>0.087403</td>\n",
       "    </tr>\n",
       "    <tr>\n",
       "      <th>std</th>\n",
       "      <td>65.390784</td>\n",
       "      <td>25.843093</td>\n",
       "      <td>2.799589</td>\n",
       "      <td>0.323157</td>\n",
       "      <td>0.477095</td>\n",
       "      <td>0.300809</td>\n",
       "      <td>0.476796</td>\n",
       "      <td>0.282425</td>\n",
       "    </tr>\n",
       "    <tr>\n",
       "      <th>min</th>\n",
       "      <td>0.004874</td>\n",
       "      <td>0.000118</td>\n",
       "      <td>0.004399</td>\n",
       "      <td>0.000000</td>\n",
       "      <td>0.000000</td>\n",
       "      <td>0.000000</td>\n",
       "      <td>0.000000</td>\n",
       "      <td>0.000000</td>\n",
       "    </tr>\n",
       "    <tr>\n",
       "      <th>25%</th>\n",
       "      <td>3.878008</td>\n",
       "      <td>0.296671</td>\n",
       "      <td>0.475673</td>\n",
       "      <td>1.000000</td>\n",
       "      <td>0.000000</td>\n",
       "      <td>0.000000</td>\n",
       "      <td>0.000000</td>\n",
       "      <td>0.000000</td>\n",
       "    </tr>\n",
       "    <tr>\n",
       "      <th>50%</th>\n",
       "      <td>9.967760</td>\n",
       "      <td>0.998650</td>\n",
       "      <td>0.997717</td>\n",
       "      <td>1.000000</td>\n",
       "      <td>0.000000</td>\n",
       "      <td>0.000000</td>\n",
       "      <td>1.000000</td>\n",
       "      <td>0.000000</td>\n",
       "    </tr>\n",
       "    <tr>\n",
       "      <th>75%</th>\n",
       "      <td>25.743985</td>\n",
       "      <td>3.355748</td>\n",
       "      <td>2.096370</td>\n",
       "      <td>1.000000</td>\n",
       "      <td>1.000000</td>\n",
       "      <td>0.000000</td>\n",
       "      <td>1.000000</td>\n",
       "      <td>0.000000</td>\n",
       "    </tr>\n",
       "    <tr>\n",
       "      <th>max</th>\n",
       "      <td>10632.723672</td>\n",
       "      <td>11851.104565</td>\n",
       "      <td>267.802942</td>\n",
       "      <td>1.000000</td>\n",
       "      <td>1.000000</td>\n",
       "      <td>1.000000</td>\n",
       "      <td>1.000000</td>\n",
       "      <td>1.000000</td>\n",
       "    </tr>\n",
       "  </tbody>\n",
       "</table>\n",
       "</div>"
      ],
      "text/plain": [
       "       distance_from_home  distance_from_last_transaction  \\\n",
       "count      1000000.000000                  1000000.000000   \n",
       "mean            26.628792                        5.036519   \n",
       "std             65.390784                       25.843093   \n",
       "min              0.004874                        0.000118   \n",
       "25%              3.878008                        0.296671   \n",
       "50%              9.967760                        0.998650   \n",
       "75%             25.743985                        3.355748   \n",
       "max          10632.723672                    11851.104565   \n",
       "\n",
       "       ratio_to_median_purchase_price  repeat_retailer       used_chip  \\\n",
       "count                  1000000.000000   1000000.000000  1000000.000000   \n",
       "mean                         1.824182         0.881536        0.350399   \n",
       "std                          2.799589         0.323157        0.477095   \n",
       "min                          0.004399         0.000000        0.000000   \n",
       "25%                          0.475673         1.000000        0.000000   \n",
       "50%                          0.997717         1.000000        0.000000   \n",
       "75%                          2.096370         1.000000        1.000000   \n",
       "max                        267.802942         1.000000        1.000000   \n",
       "\n",
       "       used_pin_number    online_order           fraud  \n",
       "count   1000000.000000  1000000.000000  1000000.000000  \n",
       "mean          0.100608        0.650552        0.087403  \n",
       "std           0.300809        0.476796        0.282425  \n",
       "min           0.000000        0.000000        0.000000  \n",
       "25%           0.000000        0.000000        0.000000  \n",
       "50%           0.000000        1.000000        0.000000  \n",
       "75%           0.000000        1.000000        0.000000  \n",
       "max           1.000000        1.000000        1.000000  "
      ]
     },
     "execution_count": 21,
     "metadata": {},
     "output_type": "execute_result"
    }
   ],
   "source": [
    "df.describe()"
   ]
  },
  {
   "cell_type": "markdown",
   "metadata": {},
   "source": [
    "Proporcion de fraude segun si es operacion online o no"
   ]
  },
  {
   "cell_type": "code",
   "execution_count": 24,
   "metadata": {},
   "outputs": [
    {
     "data": {
      "text/plain": [
       "0.0    0.013427\n",
       "1.0    0.127140\n",
       "dtype: float64"
      ]
     },
     "execution_count": 24,
     "metadata": {},
     "output_type": "execute_result"
    }
   ],
   "source": [
    "df.groupby('online_order').sum()['fraud']/df['online_order'].value_counts()"
   ]
  },
  {
   "cell_type": "code",
   "execution_count": 28,
   "metadata": {},
   "outputs": [
    {
     "name": "stdout",
     "output_type": "stream",
     "text": [
      "distance_from_home \n",
      "\n",
      "0.004874        0.0\n",
      "0.021322        0.0\n",
      "0.022599        0.0\n",
      "0.024144        0.0\n",
      "0.024461        0.0\n",
      "               ... \n",
      "4601.011222     0.0\n",
      "4823.638452     0.0\n",
      "5797.972589     0.0\n",
      "8777.136420     0.0\n",
      "10632.723672    1.0\n",
      "Length: 1000000, dtype: float64\n",
      "\n",
      "distance_from_last_transaction \n",
      "\n",
      "0.000118        0.0\n",
      "0.000298        0.0\n",
      "0.000319        0.0\n",
      "0.000338        0.0\n",
      "0.000342        0.0\n",
      "               ... \n",
      "2724.273459     0.0\n",
      "2938.197853     0.0\n",
      "3437.278746     0.0\n",
      "4968.315477     0.0\n",
      "11851.104565    0.0\n",
      "Length: 1000000, dtype: float64\n",
      "\n",
      "ratio_to_median_purchase_price \n",
      "\n",
      "0.004399      0.0\n",
      "0.005741      0.0\n",
      "0.006125      0.0\n",
      "0.007278      0.0\n",
      "0.007370      0.0\n",
      "             ... \n",
      "126.713701    1.0\n",
      "146.213898    1.0\n",
      "168.137909    0.0\n",
      "266.689692    1.0\n",
      "267.802942    0.0\n",
      "Length: 1000000, dtype: float64\n",
      "\n",
      "repeat_retailer \n",
      "\n",
      "0.0    0.088449\n",
      "1.0    0.087262\n",
      "dtype: float64\n",
      "\n",
      "used_chip \n",
      "\n",
      "used_chip\n",
      "0.0    0.100051\n",
      "1.0    0.063956\n",
      "dtype: float64\n",
      "\n",
      "used_pin_number \n",
      "\n",
      "used_pin_number\n",
      "0.0    0.096877\n",
      "1.0    0.002714\n",
      "dtype: float64\n",
      "\n",
      "online_order \n",
      "\n",
      "0.0    0.013427\n",
      "1.0    0.127140\n",
      "dtype: float64\n",
      "\n"
     ]
    }
   ],
   "source": [
    "col = 'repeat_retailer'\n",
    "for col in df.columns:\n",
    "    if col != 'fraud':\n",
    "        print(col,'\\n')\n",
    "        print(df.groupby(col).sum()['fraud']/df[col].value_counts())\n",
    "        print()"
   ]
  },
  {
   "cell_type": "markdown",
   "metadata": {},
   "source": [
    "### Fraud"
   ]
  },
  {
   "cell_type": "code",
   "execution_count": 15,
   "metadata": {},
   "outputs": [
    {
     "data": {
      "text/plain": [
       "0.0    0.912597\n",
       "1.0    0.087403\n",
       "Name: fraud, dtype: float64"
      ]
     },
     "execution_count": 15,
     "metadata": {},
     "output_type": "execute_result"
    }
   ],
   "source": [
    "df['fraud'].value_counts()/len(df['fraud'])"
   ]
  },
  {
   "cell_type": "markdown",
   "metadata": {},
   "source": [
    "Tenemos datos no balanceados: casi todas las transacciones no son fraude (91%)"
   ]
  },
  {
   "cell_type": "code",
   "execution_count": null,
   "metadata": {},
   "outputs": [
    {
     "data": {
      "text/plain": [
       "<AxesSubplot:>"
      ]
     },
     "execution_count": 16,
     "metadata": {},
     "output_type": "execute_result"
    },
    {
     "data": {
      "image/png": "[encoded data removed]",
      "text/plain": [
       "<Figure size 432x288 with 1 Axes>"
      ]
     },
     "metadata": {
      "needs_background": "light"
     },
     "output_type": "display_data"
    }
   ],
   "source": [
    "df['fraud'].hist()"
   ]
  },
  {
   "cell_type": "markdown",
   "metadata": {},
   "source": [
    "### Distance from home and Distance from last transaction"
   ]
  },
  {
   "cell_type": "code",
   "execution_count": 20,
   "metadata": {},
   "outputs": [
    {
     "data": {
      "image/png": "[encoded data removed]",
      "text/plain": [
       "<Figure size 432x288 with 1 Axes>"
      ]
     },
     "metadata": {
      "needs_background": "light"
     },
     "output_type": "display_data"
    }
   ],
   "source": [
    "ax = sns.boxplot(x=\"fraud\", y=\"distance_from_home\", data=df)\n"
   ]
  },
  {
   "cell_type": "code",
   "execution_count": null,
   "metadata": {},
   "outputs": [
    {
     "data": {
      "text/plain": [
       "count    1000000.000000\n",
       "mean          26.628792\n",
       "std           65.390784\n",
       "min            0.004874\n",
       "25%            3.878008\n",
       "50%            9.967760\n",
       "75%           25.743985\n",
       "max        10632.723672\n",
       "Name: distance_from_home, dtype: float64"
      ]
     },
     "execution_count": 15,
     "metadata": {},
     "output_type": "execute_result"
    }
   ],
   "source": [
    "df['distance_from_home'].describe()"
   ]
  },
  {
   "cell_type": "code",
   "execution_count": null,
   "metadata": {},
   "outputs": [
    {
     "data": {
      "text/plain": [
       "count    1000000.000000\n",
       "mean           5.036519\n",
       "std           25.843093\n",
       "min            0.000118\n",
       "25%            0.296671\n",
       "50%            0.998650\n",
       "75%            3.355748\n",
       "max        11851.104565\n",
       "Name: distance_from_last_transaction, dtype: float64"
      ]
     },
     "execution_count": 16,
     "metadata": {},
     "output_type": "execute_result"
    }
   ],
   "source": [
    "df['distance_from_last_transaction'].describe()"
   ]
  },
  {
   "cell_type": "code",
   "execution_count": null,
   "metadata": {},
   "outputs": [
    {
     "data": {
      "text/plain": [
       "<AxesSubplot:xlabel='distance_from_home', ylabel='distance_from_last_transaction'>"
      ]
     },
     "execution_count": 18,
     "metadata": {},
     "output_type": "execute_result"
    },
    {
     "data": {
      "image/png": "[encoded data removed]",
      "text/plain": [
       "<Figure size 842.4x595.44 with 1 Axes>"
      ]
     },
     "metadata": {},
     "output_type": "display_data"
    }
   ],
   "source": [
    "sns.set(rc={'figure.figsize':(11.7,8.27)})\n",
    "sns.scatterplot(data=df, x=\"distance_from_home\", y=\"distance_from_last_transaction\", hue=\"fraud\")"
   ]
  },
  {
   "cell_type": "markdown",
   "metadata": {},
   "source": [
    "### Ratio to median purchase"
   ]
  },
  {
   "cell_type": "code",
   "execution_count": 29,
   "metadata": {},
   "outputs": [
    {
     "data": {
      "image/png": "[encoded data removed]",
      "text/plain": [
       "<Figure size 842.4x595.44 with 1 Axes>"
      ]
     },
     "metadata": {},
     "output_type": "display_data"
    }
   ],
   "source": [
    "sns.set(rc={'figure.figsize':(11.7,8.27)})\n",
    "ax = sns.boxplot(data = df, y=\"ratio_to_median_purchase_price\", x=\"fraud\")"
   ]
  },
  {
   "cell_type": "code",
   "execution_count": null,
   "metadata": {},
   "outputs": [
    {
     "data": {
      "text/plain": [
       "count    1000000.000000\n",
       "mean           1.824182\n",
       "std            2.799589\n",
       "min            0.004399\n",
       "25%            0.475673\n",
       "50%            0.997717\n",
       "75%            2.096370\n",
       "max          267.802942\n",
       "Name: ratio_to_median_purchase_price, dtype: float64"
      ]
     },
     "execution_count": 27,
     "metadata": {},
     "output_type": "execute_result"
    }
   ],
   "source": [
    "df['ratio_to_median_purchase_price'].describe()"
   ]
  },
  {
   "cell_type": "code",
   "execution_count": null,
   "metadata": {},
   "outputs": [],
   "source": [
    "df['ratio_purchase_exp'] = df['ratio_to_median_purchase_price'].apply(lambda x: math.exp(x))"
   ]
  },
  {
   "cell_type": "code",
   "execution_count": null,
   "metadata": {},
   "outputs": [
    {
     "data": {
      "text/plain": [
       "<AxesSubplot:>"
      ]
     },
     "execution_count": 39,
     "metadata": {},
     "output_type": "execute_result"
    },
    {
     "data": {
      "image/png": "[encoded data removed]",
      "text/plain": [
       "<Figure size 842.4x595.44 with 1 Axes>"
      ]
     },
     "metadata": {},
     "output_type": "display_data"
    }
   ],
   "source": [
    "mask = (df['ratio_purchase_exp']<10)\n",
    "\n",
    "df[mask]['ratio_purchase_exp'].hist()"
   ]
  },
  {
   "cell_type": "code",
   "execution_count": null,
   "metadata": {},
   "outputs": [
    {
     "data": {
      "image/png": "[encoded data removed]",
      "text/plain": [
       "<Figure size 416.975x360 with 1 Axes>"
      ]
     },
     "metadata": {},
     "output_type": "display_data"
    }
   ],
   "source": [
    "ax = sns.displot(df[mask], x=\"ratio_purchase_exp\", hue=\"fraud\")"
   ]
  },
  {
   "cell_type": "code",
   "execution_count": null,
   "metadata": {},
   "outputs": [],
   "source": [
    "ax = sns.displot(df, x=\"ratio_purchase_exp\")"
   ]
  },
  {
   "cell_type": "code",
   "execution_count": null,
   "metadata": {},
   "outputs": [],
   "source": [
    "df = df.drop(columns = ['ratio_purchase_exp'])"
   ]
  },
  {
   "cell_type": "markdown",
   "metadata": {},
   "source": [
    "Correlación"
   ]
  },
  {
   "cell_type": "code",
   "execution_count": null,
   "metadata": {},
   "outputs": [
    {
     "data": {
      "text/html": [
       "<div>\n",
       "<style scoped>\n",
       "    .dataframe tbody tr th:only-of-type {\n",
       "        vertical-align: middle;\n",
       "    }\n",
       "\n",
       "    .dataframe tbody tr th {\n",
       "        vertical-align: top;\n",
       "    }\n",
       "\n",
       "    .dataframe thead th {\n",
       "        text-align: right;\n",
       "    }\n",
       "</style>\n",
       "<table border=\"1\" class=\"dataframe\">\n",
       "  <thead>\n",
       "    <tr style=\"text-align: right;\">\n",
       "      <th></th>\n",
       "      <th>distance_from_home</th>\n",
       "      <th>distance_from_last_transaction</th>\n",
       "      <th>ratio_to_median_purchase_price</th>\n",
       "      <th>repeat_retailer</th>\n",
       "      <th>used_chip</th>\n",
       "      <th>used_pin_number</th>\n",
       "      <th>online_order</th>\n",
       "    </tr>\n",
       "  </thead>\n",
       "  <tbody>\n",
       "    <tr>\n",
       "      <th>distance_from_home</th>\n",
       "      <td>1.000000</td>\n",
       "      <td>0.000193</td>\n",
       "      <td>-0.001374</td>\n",
       "      <td>0.143124</td>\n",
       "      <td>-0.000697</td>\n",
       "      <td>-0.001622</td>\n",
       "      <td>-0.001301</td>\n",
       "    </tr>\n",
       "    <tr>\n",
       "      <th>distance_from_last_transaction</th>\n",
       "      <td>0.000193</td>\n",
       "      <td>1.000000</td>\n",
       "      <td>0.001013</td>\n",
       "      <td>-0.000928</td>\n",
       "      <td>0.002055</td>\n",
       "      <td>-0.000899</td>\n",
       "      <td>0.000141</td>\n",
       "    </tr>\n",
       "    <tr>\n",
       "      <th>ratio_to_median_purchase_price</th>\n",
       "      <td>-0.001374</td>\n",
       "      <td>0.001013</td>\n",
       "      <td>1.000000</td>\n",
       "      <td>0.001374</td>\n",
       "      <td>0.000587</td>\n",
       "      <td>0.000942</td>\n",
       "      <td>-0.000330</td>\n",
       "    </tr>\n",
       "    <tr>\n",
       "      <th>repeat_retailer</th>\n",
       "      <td>0.143124</td>\n",
       "      <td>-0.000928</td>\n",
       "      <td>0.001374</td>\n",
       "      <td>1.000000</td>\n",
       "      <td>-0.001345</td>\n",
       "      <td>-0.000417</td>\n",
       "      <td>-0.000532</td>\n",
       "    </tr>\n",
       "    <tr>\n",
       "      <th>used_chip</th>\n",
       "      <td>-0.000697</td>\n",
       "      <td>0.002055</td>\n",
       "      <td>0.000587</td>\n",
       "      <td>-0.001345</td>\n",
       "      <td>1.000000</td>\n",
       "      <td>-0.001393</td>\n",
       "      <td>-0.000219</td>\n",
       "    </tr>\n",
       "    <tr>\n",
       "      <th>used_pin_number</th>\n",
       "      <td>-0.001622</td>\n",
       "      <td>-0.000899</td>\n",
       "      <td>0.000942</td>\n",
       "      <td>-0.000417</td>\n",
       "      <td>-0.001393</td>\n",
       "      <td>1.000000</td>\n",
       "      <td>-0.000291</td>\n",
       "    </tr>\n",
       "    <tr>\n",
       "      <th>online_order</th>\n",
       "      <td>-0.001301</td>\n",
       "      <td>0.000141</td>\n",
       "      <td>-0.000330</td>\n",
       "      <td>-0.000532</td>\n",
       "      <td>-0.000219</td>\n",
       "      <td>-0.000291</td>\n",
       "      <td>1.000000</td>\n",
       "    </tr>\n",
       "  </tbody>\n",
       "</table>\n",
       "</div>"
      ],
      "text/plain": [
       "                                distance_from_home  \\\n",
       "distance_from_home                        1.000000   \n",
       "distance_from_last_transaction            0.000193   \n",
       "ratio_to_median_purchase_price           -0.001374   \n",
       "repeat_retailer                           0.143124   \n",
       "used_chip                                -0.000697   \n",
       "used_pin_number                          -0.001622   \n",
       "online_order                             -0.001301   \n",
       "\n",
       "                                distance_from_last_transaction  \\\n",
       "distance_from_home                                    0.000193   \n",
       "distance_from_last_transaction                        1.000000   \n",
       "ratio_to_median_purchase_price                        0.001013   \n",
       "repeat_retailer                                      -0.000928   \n",
       "used_chip                                             0.002055   \n",
       "used_pin_number                                      -0.000899   \n",
       "online_order                                          0.000141   \n",
       "\n",
       "                                ratio_to_median_purchase_price  \\\n",
       "distance_from_home                                   -0.001374   \n",
       "distance_from_last_transaction                        0.001013   \n",
       "ratio_to_median_purchase_price                        1.000000   \n",
       "repeat_retailer                                       0.001374   \n",
       "used_chip                                             0.000587   \n",
       "used_pin_number                                       0.000942   \n",
       "online_order                                         -0.000330   \n",
       "\n",
       "                                repeat_retailer  used_chip  used_pin_number  \\\n",
       "distance_from_home                     0.143124  -0.000697        -0.001622   \n",
       "distance_from_last_transaction        -0.000928   0.002055        -0.000899   \n",
       "ratio_to_median_purchase_price         0.001374   0.000587         0.000942   \n",
       "repeat_retailer                        1.000000  -0.001345        -0.000417   \n",
       "used_chip                             -0.001345   1.000000        -0.001393   \n",
       "used_pin_number                       -0.000417  -0.001393         1.000000   \n",
       "online_order                          -0.000532  -0.000219        -0.000291   \n",
       "\n",
       "                                online_order  \n",
       "distance_from_home                 -0.001301  \n",
       "distance_from_last_transaction      0.000141  \n",
       "ratio_to_median_purchase_price     -0.000330  \n",
       "repeat_retailer                    -0.000532  \n",
       "used_chip                          -0.000219  \n",
       "used_pin_number                    -0.000291  \n",
       "online_order                        1.000000  "
      ]
     },
     "execution_count": 48,
     "metadata": {},
     "output_type": "execute_result"
    }
   ],
   "source": [
    "df.drop(columns = ['fraud']).corr()"
   ]
  }
 ],
 "metadata": {
  "kernelspec": {
   "display_name": "Python 3.9.12 ('ds')",
   "language": "python",
   "name": "python3"
  },
  "language_info": {
   "codemirror_mode": {
    "name": "ipython",
    "version": 3
   },
   "file_extension": ".py",
   "mimetype": "text/x-python",
   "name": "python",
   "nbconvert_exporter": "python",
   "pygments_lexer": "ipython3",
   "version": "3.9.12"
  },
  "orig_nbformat": 4,
  "vscode": {
   "interpreter": {
    "hash": "fc0734d7887f7fa13575460a22a53a120848e2e3e3952b0a350a03b9bf5f4080"
   }
  }
 },
 "nbformat": 4,
 "nbformat_minor": 2
}
